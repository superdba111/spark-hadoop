{
 "cells": [
  {
   "cell_type": "code",
   "execution_count": 3,
   "metadata": {},
   "outputs": [],
   "source": [
    "from pyspark.sql import SparkSession, functions as fs"
   ]
  },
  {
   "cell_type": "code",
   "execution_count": 4,
   "metadata": {},
   "outputs": [],
   "source": [
    "session = SparkSession.builder.appName(\"UkMakerSpaces\").master(\"local[*]\").getOrCreate()"
   ]
  },
  {
   "cell_type": "code",
   "execution_count": 5,
   "metadata": {},
   "outputs": [],
   "source": [
    "makerSpace = session.read.option(\"header\", \"true\") \\\n",
    "        .csv(\"D:/Project/python-spark/in/uk-makerspaces-identifiable-data.csv\")"
   ]
  },
  {
   "cell_type": "code",
   "execution_count": 6,
   "metadata": {},
   "outputs": [
    {
     "name": "stdout",
     "output_type": "stream",
     "text": [
      "=== Print 20 records of makerspace table ===\n",
      "+--------------------+--------+\n",
      "|  Name of makerspace|Postcode|\n",
      "+--------------------+--------+\n",
      "|        Hub Workshop|SE15 3SN|\n",
      "|Nottingham Hacksp...| NG3 1JH|\n",
      "|         Farset Labs|BT12 5GH|\n",
      "|       Medway Makers| ME4 3JE|\n",
      "|             fizzPop|  B5 5SR|\n",
      "|South London Make...|SE24 9AA|\n",
      "|Create Space London | HA9 6DE|\n",
      "|          FounderHub|CF10 1DY|\n",
      "|  LuneLab Makerspace| LA2 6ND|\n",
      "|            The Shed| CT2 7NF|\n",
      "|      Build Brighton| BN2 4AB|\n",
      "|           Makespace| CB2 1RX|\n",
      "|   Swansea Hackspace| SA1 1DP|\n",
      "|57North (previous...|AB11 5BN|\n",
      "|        BEC Fab Lab |CA13 0HT|\n",
      "|   Dundee MakerSpace| DD1 4QB|\n",
      "|                EPIK| CT3 4GP|\n",
      "|Fab Lab Nerve Centre|BT48 6HJ|\n",
      "|  fablab@strathclyde|  G1 1XJ|\n",
      "|MakerspaceFY1 (Bl...| FY1 4DY|\n",
      "+--------------------+--------+\n",
      "only showing top 20 rows\n",
      "\n"
     ]
    }
   ],
   "source": [
    "print(\"=== Print 20 records of makerspace table ===\")\n",
    "makerSpace.select(\"Name of makerspace\", \"Postcode\").show()"
   ]
  },
  {
   "cell_type": "code",
   "execution_count": 7,
   "metadata": {},
   "outputs": [],
   "source": [
    "postCode = session.read.option(\"header\", \"true\").csv(\"D:/Project/python-spark/in/uk-postcode.csv\") \\\n",
    "        .withColumn(\"PostCode\", fs.concat_ws(\"\", fs.col(\"PostCode\"), fs.lit(\" \")))"
   ]
  },
  {
   "cell_type": "code",
   "execution_count": 8,
   "metadata": {},
   "outputs": [
    {
     "name": "stdout",
     "output_type": "stream",
     "text": [
      "=== Print 20 records of postcode table ===\n",
      "+--------+-------------+\n",
      "|PostCode|       Region|\n",
      "+--------+-------------+\n",
      "|    AB1 |     Aberdeen|\n",
      "|    AB2 |     Aberdeen|\n",
      "|    AB3 |     Aberdeen|\n",
      "|    AB4 |     Aberdeen|\n",
      "|    AB5 |     Aberdeen|\n",
      "|    AB9 |     Aberdeen|\n",
      "|   AB10 |     Aberdeen|\n",
      "|   AB11 |     Aberdeen|\n",
      "|   AB12 |     Aberdeen|\n",
      "|   AB13 |     Aberdeen|\n",
      "|   AB14 |     Aberdeen|\n",
      "|   AB15 |     Aberdeen|\n",
      "|   AB16 |     Aberdeen|\n",
      "|   AB21 |     Aberdeen|\n",
      "|   AB22 |     Aberdeen|\n",
      "|   AB23 |     Aberdeen|\n",
      "|   AB24 |     Aberdeen|\n",
      "|   AB25 |     Aberdeen|\n",
      "|   AB30 |Aberdeenshire|\n",
      "|   AB31 |Aberdeenshire|\n",
      "+--------+-------------+\n",
      "only showing top 20 rows\n",
      "\n"
     ]
    }
   ],
   "source": [
    "print(\"=== Print 20 records of postcode table ===\")\n",
    "postCode.select(\"PostCode\", \"Region\").show()"
   ]
  },
  {
   "cell_type": "code",
   "execution_count": 9,
   "metadata": {},
   "outputs": [],
   "source": [
    "joined = makerSpace \\\n",
    "        .join(postCode, makerSpace[\"Postcode\"].startswith(postCode[\"Postcode\"]), \"left_outer\")"
   ]
  },
  {
   "cell_type": "code",
   "execution_count": 10,
   "metadata": {},
   "outputs": [
    {
     "name": "stdout",
     "output_type": "stream",
     "text": [
      "=== Group by Region ===\n",
      "+--------------------+-----+\n",
      "|              Region|count|\n",
      "+--------------------+-----+\n",
      "|       Staffordshire|    1|\n",
      "|    Scottish Borders|    1|\n",
      "|          Sunderland|    1|\n",
      "|          Manchester|    3|\n",
      "|            Bradford|    1|\n",
      "|          Wandsworth|    1|\n",
      "|            Coventry|    1|\n",
      "|             Lambeth|    2|\n",
      "|              Oxford|    2|\n",
      "|          Eastbourne|    1|\n",
      "|Cheshire West and...|    1|\n",
      "|             Glasgow|    3|\n",
      "|             Swindon|    1|\n",
      "|           Cambridge|    1|\n",
      "|             Belfast|    2|\n",
      "|             Cardiff|    3|\n",
      "|              Camden|    2|\n",
      "|              Dundee|    1|\n",
      "|                null|    2|\n",
      "|              Dudley|    1|\n",
      "|               Moray|    1|\n",
      "|          Birmingham|    1|\n",
      "|       Tower Hamlets|    3|\n",
      "|              Exeter|    1|\n",
      "|           Leicester|    1|\n",
      "|               Derby|    1|\n",
      "|   Barrow-in-Furness|    1|\n",
      "|Kensington and Ch...|    1|\n",
      "|            Plymouth|    1|\n",
      "|               Brent|    1|\n",
      "| North Hertfordshire|    1|\n",
      "|         Argyllshire|    1|\n",
      "|           Sheffield|    2|\n",
      "|              Medway|    1|\n",
      "|           Lancaster|    1|\n",
      "|             Falkirk|    1|\n",
      "|             Newport|    1|\n",
      "|          Tewkesbury|    1|\n",
      "|         Westminster|    1|\n",
      "|             Lincoln|    1|\n",
      "|             Hackney|    1|\n",
      "|           Southwark|    2|\n",
      "|            Aberdeen|    2|\n",
      "|          Colchester|    1|\n",
      "|          Canterbury|    1|\n",
      "|           Allerdale|    1|\n",
      "|             Bristol|    2|\n",
      "|                Kent|    1|\n",
      "|         Southampton|    1|\n",
      "|             Enfield|    1|\n",
      "|             Swansea|    1|\n",
      "|            Hereford|    1|\n",
      "|       Milton Keynes|    1|\n",
      "|            Rushmoor|    1|\n",
      "|             Fenland|    1|\n",
      "|              Ealing|    1|\n",
      "|           Liverpool|    2|\n",
      "|   Brighton and Hove|    2|\n",
      "|             Gwynedd|    1|\n",
      "|            Cornwall|    1|\n",
      "|      Waltham Forest|    1|\n",
      "|           Newcastle|    1|\n",
      "|             Gedling|    1|\n",
      "|   Rhondda Cynon Taf|    1|\n",
      "|Richmond upon Thames|    1|\n",
      "|             Wealden|    1|\n",
      "|               Leeds|    2|\n",
      "|           Blackpool|    1|\n",
      "|      City of London|    1|\n",
      "|               Wigan|    1|\n",
      "|                York|    1|\n",
      "|            Lewisham|    1|\n",
      "|               Derry|    1|\n",
      "|           Berkshire|    1|\n",
      "+--------------------+-----+\n",
      "\n"
     ]
    }
   ],
   "source": [
    "print(\"=== Group by Region ===\")\n",
    "joined.groupBy(\"Region\").count().show(200)"
   ]
  },
  {
   "cell_type": "code",
   "execution_count": null,
   "metadata": {},
   "outputs": [],
   "source": []
  }
 ],
 "metadata": {
  "kernelspec": {
   "display_name": "Python 3",
   "language": "python",
   "name": "python3"
  },
  "language_info": {
   "codemirror_mode": {
    "name": "ipython",
    "version": 3
   },
   "file_extension": ".py",
   "mimetype": "text/x-python",
   "name": "python",
   "nbconvert_exporter": "python",
   "pygments_lexer": "ipython3",
   "version": "3.6.5"
  }
 },
 "nbformat": 4,
 "nbformat_minor": 2
}
