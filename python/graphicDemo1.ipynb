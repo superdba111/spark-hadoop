{
 "cells": [
  {
   "cell_type": "code",
   "execution_count": 4,
   "metadata": {},
   "outputs": [],
   "source": [
    "# 模块是 python 自带的工具箱，这里将工具箱导入就能使用了\n",
    "# turtle 模块是 python 用来画图的工具箱\n",
    "\n",
    "#import turtle\n",
    "\n",
    "from ipyturtle import Turtle\n"
   ]
  },
  {
   "cell_type": "code",
   "execution_count": 5,
   "metadata": {},
   "outputs": [
    {
     "ename": "AttributeError",
     "evalue": "'Turtle' object has no attribute 'speed'",
     "output_type": "error",
     "traceback": [
      "\u001b[1;31m---------------------------------------------------------------------------\u001b[0m",
      "\u001b[1;31mAttributeError\u001b[0m                            Traceback (most recent call last)",
      "\u001b[1;32m<ipython-input-5-a8c05aa7f906>\u001b[0m in \u001b[0;36m<module>\u001b[1;34m()\u001b[0m\n\u001b[0;32m      7\u001b[0m \u001b[1;31m# 这一行用来加快画笔速度，从 1~9 依次变快，但 0 是最快\u001b[0m\u001b[1;33m\u001b[0m\u001b[1;33m\u001b[0m\u001b[0m\n\u001b[0;32m      8\u001b[0m \u001b[1;33m\u001b[0m\u001b[0m\n\u001b[1;32m----> 9\u001b[1;33m \u001b[0mt\u001b[0m\u001b[1;33m.\u001b[0m\u001b[0mspeed\u001b[0m\u001b[1;33m(\u001b[0m\u001b[1;36m0\u001b[0m\u001b[1;33m)\u001b[0m\u001b[1;33m\u001b[0m\u001b[0m\n\u001b[0m\u001b[0;32m     10\u001b[0m \u001b[1;33m\u001b[0m\u001b[0m\n\u001b[0;32m     11\u001b[0m \u001b[1;31m# 这是向前走，单位是像素\u001b[0m\u001b[1;33m\u001b[0m\u001b[1;33m\u001b[0m\u001b[0m\n",
      "\u001b[1;31mAttributeError\u001b[0m: 'Turtle' object has no attribute 'speed'"
     ]
    }
   ],
   "source": [
    "# 将 turtle 里的工具拿出来，赋给 t 变量\n",
    "# 照猫画虎用就是了，这些东西要到很后面才能理解\n",
    "\n",
    "#t = turtle.Turtle()\n",
    "t = Turtle()\n",
    "\n",
    "# 这一行用来加快画笔速度，从 1~9 依次变快，但 0 是最快\n",
    "\n",
    "t.speed(0)\n",
    "\n",
    "# 这是向前走，单位是像素\n",
    "\n",
    "t.forward(100)\n",
    "\n",
    "# 这是转弯，单位是角度\n",
    "\n",
    "t.right(120)\n",
    "t.forward(100)\n",
    "t.right(120)\n",
    "t.forward(100)\n",
    "t.right(120)"
   ]
  },
  {
   "cell_type": "code",
   "execution_count": null,
   "metadata": {},
   "outputs": [],
   "source": [
    "# 复制三次，就画了一个三角形\n",
    "# 正方形\n",
    "# 长方形\n",
    "# 如果我们需要改变三角形的边长怎么办？\n",
    "# 这就要用到变量了，到时候只需改变变量就能改变长度\n",
    "# 如果有相同的变量，后面定义的会覆盖前面的\n",
    "\n",
    "l = 200\n",
    "\n",
    "t.forward(l)\n",
    "t.right(120)\n",
    "t.forward(l)\n",
    "t.right(120)\n",
    "t.forward(l)\n",
    "t.right(120)"
   ]
  },
  {
   "cell_type": "code",
   "execution_count": null,
   "metadata": {},
   "outputs": [],
   "source": [
    "# for 循环\n",
    "# 循环还有 while 循环，考虑到用不着就不讲了\n",
    "# 循环用来处理重复的事情\n",
    "# range() 是一个区间\n",
    "# range(3) 相当于 0 1 2\n",
    "# range(5) 相当于 0 1 2 3 4\n",
    "# i 取的是 range() 里的值，一次取一个，取一次就循环一次\n",
    "# 冒号后面必有缩进，缩进的代表是同一个代码块\n",
    "# 照着用就行了，注意一个字符都不能敲错，不能用中文符号\n",
    "\n",
    "# 如果想画两个三角形怎么办，再复制一个 for 循环？\n",
    "# 我们用函数将代码封装起来，到时候直接调用就好了\n",
    "# def 关键字用来定义函数， triangle 是函数名\n",
    "# 必须要有冒号接缩进，函数里面也是一个代码块\n",
    "\n",
    "def triangle():\n",
    "    for i in range(3):\n",
    "        t.forward(l)\n",
    "        t.right(120)\n",
    "\n",
    "# 函数可以传递参数进去"
   ]
  },
  {
   "cell_type": "code",
   "execution_count": null,
   "metadata": {},
   "outputs": [],
   "source": [
    "def triangle2(l):\n",
    "    for i in range(3):\n",
    "        t.forward(l)\n",
    "        t.right(120)\n",
    "\n",
    "# 需要传递个参数进去才能调用这个函数\n",
    "# triangle2(250)\n",
    "\n",
    "# 写一个画 n 边形的通用函数\n",
    "\n",
    "def polygon(l,n):\n",
    "    angle=360/n\n",
    "    for i in range(n):\n",
    "        t.forward(l)\n",
    "        t.right(angle)"
   ]
  },
  {
   "cell_type": "code",
   "execution_count": null,
   "metadata": {},
   "outputs": [],
   "source": [
    "# 画一个五角星\n",
    "\n",
    "def five_star(l):\n",
    "    for i in range(5):\n",
    "        t.forward(l)\n",
    "        t.right(144)\n",
    "\n",
    "\n",
    "# 画一个圆\n",
    "# 边长在 36 以上就是个圆\n",
    "\n",
    "def circle():\n",
    "    for i in range(36):\n",
    "        t.forward(10)\n",
    "        t.right(15)"
   ]
  },
  {
   "cell_type": "code",
   "execution_count": null,
   "metadata": {},
   "outputs": [],
   "source": [
    "# 在指定的坐标画图\n",
    "# 比如要在坐标为 (100, 150) 的位置画个正方形\n",
    "\n",
    "def square(x,y,l):\n",
    "    t.penup()\n",
    "    t.goto(x,y)\n",
    "    t.pendown()\n",
    "    for i in range(4):\n",
    "        t.forward(l)\n",
    "        t.right(90)"
   ]
  },
  {
   "cell_type": "code",
   "execution_count": null,
   "metadata": {},
   "outputs": [],
   "source": [
    "# 将画笔定位封装成函数使用，就能有效去除重复代码\n",
    "\n",
    "def setpen(x, y):\n",
    "    t.penup()\n",
    "    t.goto(x, y)\n",
    "    t.pendown()\n",
    "    t.setheading(0)"
   ]
  },
  {
   "cell_type": "code",
   "execution_count": null,
   "metadata": {},
   "outputs": [],
   "source": [
    "def square(x,y,l):\n",
    "    setpen(x,y)\n",
    "    for i in range(4):\n",
    "        t.forward(l)\n",
    "        t.right(90)"
   ]
  },
  {
   "cell_type": "code",
   "execution_count": null,
   "metadata": {},
   "outputs": [],
   "source": [
    "# 使用 for 循环、函数\n",
    "def square_line(x,y,l,n,dis):\n",
    "    for i in range(n):\n",
    "        inner_x=x+(l+dis)*i\n",
    "        square(inner_x,y,l)\n",
    "\n",
    "# square_matrix(100, 150, 30, 5, 10, 6)"
   ]
  },
  {
   "cell_type": "code",
   "execution_count": null,
   "metadata": {},
   "outputs": [],
   "source": [
    "# 填充颜色，给图形上色\n",
    "def five_star(l):\n",
    "    t.fillcolor('yello')\n",
    "    t.begin_fill()\n",
    "    for i in range(5):\n",
    "        t.forward(l)\n",
    "        t.right(144)\n",
    "        t.end_fill()"
   ]
  },
  {
   "cell_type": "code",
   "execution_count": null,
   "metadata": {},
   "outputs": [],
   "source": [
    "colors=['red','yellow','blue','green']"
   ]
  },
  {
   "cell_type": "code",
   "execution_count": null,
   "metadata": {},
   "outputs": [],
   "source": [
    "def circle(x,y,r,color):\n",
    "    n=36\n",
    "    angle=360/n\n",
    "    pi=3.1415926\n",
    "    c=2*pi*r\n",
    "    l=c/n\n",
    "    start_x=x-l/2\n",
    "    start_y=y+r\n",
    "    setpen(start_x,start_y)\n",
    "    t.pencolor(color)\n",
    "    t.fillcolor(color)\n",
    "    t.begin_fill()\n",
    "    for i in range(n):\n",
    "        t.forward(l)\n",
    "        t.right(angle)\n",
    "    t.end_fill()"
   ]
  },
  {
   "cell_type": "code",
   "execution_count": null,
   "metadata": {},
   "outputs": [],
   "source": [
    "def five_star(l):\n",
    "    setpen(0,0)\n",
    "    t.setheading(162)\n",
    "    t.forward(150)\n",
    "    t.setheading(0)\n",
    "    t.fillcolor('WhiteSmoke')\n",
    "    t.begin_fill()\n",
    "    t.hideturtle()\n",
    "    t.penup()\n",
    "    for i in range(5):\n",
    "        t.forward(l)\n",
    "        t.right(144)\n",
    "    t.end_fill()"
   ]
  },
  {
   "cell_type": "code",
   "execution_count": null,
   "metadata": {},
   "outputs": [],
   "source": [
    "def sheild():\n",
    "    circle(0,0,300,'red')\n",
    "    circle(0,0,250,'white')\n",
    "    circle(0,0,200,'red')\n",
    "    circle(0,0,150,'blue')\n",
    "    five_star(284)"
   ]
  },
  {
   "cell_type": "code",
   "execution_count": null,
   "metadata": {},
   "outputs": [],
   "source": [
    "sheild()\n",
    "\n",
    "# 结尾这一行必须有，照着用就行了\n",
    "\n",
    "turtle.done()"
   ]
  },
  {
   "cell_type": "code",
   "execution_count": null,
   "metadata": {},
   "outputs": [],
   "source": [
    "\n"
   ]
  }
 ],
 "metadata": {
  "kernelspec": {
   "display_name": "Python 3",
   "language": "python",
   "name": "python3"
  },
  "language_info": {
   "codemirror_mode": {
    "name": "ipython",
    "version": 3
   },
   "file_extension": ".py",
   "mimetype": "text/x-python",
   "name": "python",
   "nbconvert_exporter": "python",
   "pygments_lexer": "ipython3",
   "version": "3.6.5"
  }
 },
 "nbformat": 4,
 "nbformat_minor": 2
}
