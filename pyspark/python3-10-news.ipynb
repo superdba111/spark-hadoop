{
 "cells": [
  {
   "cell_type": "code",
   "execution_count": 3,
   "id": "9518cbc9",
   "metadata": {},
   "outputs": [],
   "source": [
    "#switch-case\n",
    "def http_error(status):\n",
    "    match status:\n",
    "        case 400:\n",
    "            return \"Bad request\"\n",
    "        case 401 | 403:\n",
    "            return \"Not allowed\"\n",
    "        case 404:\n",
    "            return \"Not found\"\n",
    "        case 418:\n",
    "            return \"I'm a teapot\"\n",
    "        case 500:\n",
    "            return \"Internal Server Error\"\n",
    "        case _:\n",
    "            return \"Something's wrong with the Internet\""
   ]
  },
  {
   "cell_type": "code",
   "execution_count": 4,
   "id": "62610573",
   "metadata": {},
   "outputs": [
    {
     "name": "stdout",
     "output_type": "stream",
     "text": [
      "Internal Server Error\n"
     ]
    }
   ],
   "source": [
    "print(http_error(500))"
   ]
  },
  {
   "cell_type": "code",
   "execution_count": 5,
   "id": "ae84f2f8",
   "metadata": {},
   "outputs": [],
   "source": [
    "# point is an (x, y) tuple\n",
    "def check_point(point):\n",
    "    x = 10\n",
    "    y = 26\n",
    "    match point:\n",
    "        case (0, 0):\n",
    "            print(\"Origin\")\n",
    "        case (0, y):\n",
    "            print(f\"Y={y}\")\n",
    "        case (x, 0):\n",
    "            print(f\"X={x}\")\n",
    "        case (x, y):\n",
    "            print(f\"X={x}, Y={y}\")\n",
    "        case _:\n",
    "            raise ValueError(\"Not a point\")"
   ]
  },
  {
   "cell_type": "code",
   "execution_count": 6,
   "id": "cb4dcfee",
   "metadata": {},
   "outputs": [
    {
     "name": "stdout",
     "output_type": "stream",
     "text": [
      "[(1, 5), (2, 7), (3, 8)]\n"
     ]
    },
    {
     "ename": "ValueError",
     "evalue": "zip() argument 2 is shorter than argument 1",
     "output_type": "error",
     "traceback": [
      "\u001b[0;31m---------------------------------------------------------------------------\u001b[0m",
      "\u001b[0;31mValueError\u001b[0m                                Traceback (most recent call last)",
      "Input \u001b[0;32mIn [6]\u001b[0m, in \u001b[0;36m<cell line: 8>\u001b[0;34m()\u001b[0m\n\u001b[1;32m      6\u001b[0m \u001b[38;5;28mprint\u001b[39m(\u001b[38;5;28mlist\u001b[39m(\u001b[38;5;28mzip\u001b[39m(x, y)))\n\u001b[1;32m      7\u001b[0m \u001b[38;5;66;03m# [(1, 5), (2, 7), (3, 8)]\u001b[39;00m\n\u001b[0;32m----> 8\u001b[0m \u001b[38;5;28mprint\u001b[39m(\u001b[38;5;28;43mlist\u001b[39;49m\u001b[43m(\u001b[49m\u001b[38;5;28;43mzip\u001b[39;49m\u001b[43m(\u001b[49m\u001b[43mx\u001b[49m\u001b[43m,\u001b[49m\u001b[43m \u001b[49m\u001b[43my\u001b[49m\u001b[43m,\u001b[49m\u001b[43m \u001b[49m\u001b[43mstrict\u001b[49m\u001b[38;5;241;43m=\u001b[39;49m\u001b[38;5;28;43;01mTrue\u001b[39;49;00m\u001b[43m)\u001b[49m\u001b[43m)\u001b[49m)\n",
      "\u001b[0;31mValueError\u001b[0m: zip() argument 2 is shorter than argument 1"
     ]
    }
   ],
   "source": [
    "#zip() is a built-in function in Python that just got extra care from the Python developers, \n",
    "#it can now check if the length of the zipped lists is at the same length.\n",
    "x = [1, 2, 3, 4]\n",
    "y = [5, 7, 8]\n",
    "\n",
    "print(list(zip(x, y)))\n",
    "# [(1, 5), (2, 7), (3, 8)]\n",
    "print(list(zip(x, y, strict=True)))\n",
    "# ValueError: zip() argument 2 is shorter than argument 1"
   ]
  },
  {
   "cell_type": "code",
   "execution_count": 8,
   "id": "88fcde7c",
   "metadata": {},
   "outputs": [
    {
     "data": {
      "text/plain": [
       "True"
      ]
     },
     "execution_count": 8,
     "metadata": {},
     "output_type": "execute_result"
    }
   ],
   "source": [
    "#Type Hint Just Got Easier\n",
    "#Remember Union that let us check if an argument is equivalent to multiple types, so, now we just have |\n",
    "# Instead of\n",
    "# def f(list: List[Union[int, str]], param: Optional[int]) -> Union[float, str]\n",
    "def f(list: list[int | str], param: int | None) -> float | str:\n",
    "    pass\n",
    "\n",
    "# Instead of typing.List[typing.Union[str, int]]\n",
    "list[str | int]\n",
    "\n",
    "# Instead of typing.Dict[str, typing.Union[int, float]]\n",
    "dict[str, int | float]\n",
    "\n",
    "isinstance(5, int | str)\n",
    "# True\n",
    "isinstance(\"5\", int | str)\n",
    "# True"
   ]
  },
  {
   "cell_type": "code",
   "execution_count": 9,
   "id": "36e87374",
   "metadata": {},
   "outputs": [
    {
     "ename": "SyntaxError",
     "evalue": "invalid syntax. Perhaps you forgot a comma? (4184850692.py, line 3)",
     "output_type": "error",
     "traceback": [
      "\u001b[0;36m  Input \u001b[0;32mIn [9]\u001b[0;36m\u001b[0m\n\u001b[0;31m    with (open('file1.txt') as foo \\\u001b[0m\n\u001b[0m                               ^\u001b[0m\n\u001b[0;31mSyntaxError\u001b[0m\u001b[0;31m:\u001b[0m invalid syntax. Perhaps you forgot a comma?\n"
     ]
    }
   ],
   "source": [
    "#NO Need For Backslash\n",
    "# Old\n",
    "with (open('file1.txt') as foo \\\n",
    "      open('file2.txt') as bar):\n",
    "  pass\n",
    "\n",
    "# New (No backslash)\n",
    "with (open('file1.txt') as foo\n",
    "      open('file2.txt') as bar):\n",
    "  pass"
   ]
  },
  {
   "cell_type": "code",
   "execution_count": 10,
   "id": "81028368",
   "metadata": {},
   "outputs": [
    {
     "ename": "SyntaxError",
     "evalue": "'(' was never closed (3701929873.py, line 7)",
     "output_type": "error",
     "traceback": [
      "\u001b[0;36m  Input \u001b[0;32mIn [10]\u001b[0;36m\u001b[0m\n\u001b[0;31m    print(\"hello world\"\u001b[0m\n\u001b[0m         ^\u001b[0m\n\u001b[0;31mSyntaxError\u001b[0m\u001b[0;31m:\u001b[0m '(' was never closed\n"
     ]
    }
   ],
   "source": [
    "#Better Error Messages\n",
    "# Python 3.9\n",
    "print(\"hello world\"\n",
    "# SyntaxError: unexpected EOF while parsing\n",
    "      \n",
    "# python 3.10\n",
    "print(\"hello world\"\n",
    "#   print(\"hello world\"\n",
    "#        ^\n",
    "# SyntaxError: '(' was never closed\n",
    "\n",
    "# Python 3.9\n",
    "foo(x, z for z in range(10), t, w)\n",
    "#    foo(x, z for z in range(10), t, w)\n",
    "#           ^\n",
    "# SyntaxError: Generator expression must be parenthesized\n",
    "      \n",
    "# python 3.10\n",
    "foo(x, z for z in range(10), t, w)\n",
    "#    foo(x, z for z in range(10), t, w)\n",
    "#           ^^^^^^^^^^^^^^^^^^^^\n",
    "# SyntaxError: Generator expression must be parenthesized"
   ]
  },
  {
   "cell_type": "code",
   "execution_count": null,
   "id": "3f055482",
   "metadata": {},
   "outputs": [],
   "source": []
  }
 ],
 "metadata": {
  "kernelspec": {
   "display_name": "Python 3 (ipykernel)",
   "language": "python",
   "name": "python3"
  },
  "language_info": {
   "codemirror_mode": {
    "name": "ipython",
    "version": 3
   },
   "file_extension": ".py",
   "mimetype": "text/x-python",
   "name": "python",
   "nbconvert_exporter": "python",
   "pygments_lexer": "ipython3",
   "version": "3.10.4"
  }
 },
 "nbformat": 4,
 "nbformat_minor": 5
}
