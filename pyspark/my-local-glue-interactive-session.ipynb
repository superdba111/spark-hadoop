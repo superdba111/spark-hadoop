{
 "cells": [
  {
   "cell_type": "code",
   "execution_count": 2,
   "id": "580eb39e",
   "metadata": {},
   "outputs": [
    {
     "name": "stdout",
     "output_type": "stream",
     "text": [
      "Welcome to the Glue Interactive Sessions Kernel\n",
      "For more information on available magic commands, please type %help in any new cell.\n",
      "\n",
      "Please view our Getting Started page to access the most up-to-date information on the Interactive Sessions kernel: https://docs.aws.amazon.com/glue/latest/dg/interactive-sessions.html\n",
      "Previous region: None\n",
      "Setting new region to: us-east-1\n",
      "Region is set to: us-east-1\n"
     ]
    }
   ],
   "source": [
    "%region \"us-east-1\""
   ]
  },
  {
   "cell_type": "code",
   "execution_count": 3,
   "id": "575a96c4",
   "metadata": {},
   "outputs": [],
   "source": [
    "# %iam_role arn:aws:iam::111222333:role/my-interactive-session-role-name"
   ]
  },
  {
   "cell_type": "code",
   "execution_count": 5,
   "id": "7e3ce632",
   "metadata": {},
   "outputs": [
    {
     "name": "stdout",
     "output_type": "stream",
     "text": [
      "Previous profile: default\n",
      "Setting new profile to: de\n"
     ]
    }
   ],
   "source": [
    "# Set `glue_role_arn=arn:aws:iam::1112223333:role/my-interactive-session-role-name` in ~/.aws/credentials\n",
    "%profile \"de\""
   ]
  },
  {
   "cell_type": "code",
   "execution_count": 7,
   "id": "5d97c3c3",
   "metadata": {},
   "outputs": [
    {
     "name": "stdout",
     "output_type": "stream",
     "text": [
      "Connections to be included:\n",
      "data-warehouse\n"
     ]
    }
   ],
   "source": [
    "#%connections eblocks3csv\n",
    "%connections data-warehouse"
   ]
  },
  {
   "cell_type": "code",
   "execution_count": 9,
   "id": "d6668687",
   "metadata": {},
   "outputs": [
    {
     "name": "stdout",
     "output_type": "stream",
     "text": [
      "Setting Glue version to: 3.0\n"
     ]
    }
   ],
   "source": [
    "%glue_version 3.0"
   ]
  },
  {
   "cell_type": "code",
   "execution_count": 11,
   "id": "7c52e539",
   "metadata": {},
   "outputs": [
    {
     "name": "stdout",
     "output_type": "stream",
     "text": [
      "Previous number of workers: 5\n",
      "Setting new number of workers to: 2\n"
     ]
    }
   ],
   "source": [
    "%number_of_workers 2"
   ]
  },
  {
   "cell_type": "code",
   "execution_count": 13,
   "id": "bc9c625a",
   "metadata": {},
   "outputs": [
    {
     "name": "stdout",
     "output_type": "stream",
     "text": [
      "Current iam_role is None\n",
      "iam_role has been set to arn:aws:iam::1234567890123:role/LakeFormationWorkflowRole.\n"
     ]
    }
   ],
   "source": [
    "%iam_role arn:aws:iam::1234567890123:role/LakeFormationWorkflowRole"
   ]
  },
  {
   "cell_type": "code",
   "execution_count": null,
   "id": "bafe3206",
   "metadata": {},
   "outputs": [
    {
     "name": "stdout",
     "output_type": "stream",
     "text": [
      "Authenticating with profile=de\n",
      "glue_role_arn defined by user: arn:aws:iam::1234567890123:role/LakeFormationWorkflowRole\n",
      "Trying to create a Glue session for the kernel.\n",
      "Worker Type: G.1X\n",
      "Number of Workers: 2\n",
      "Session ID: 53d36510-109b-4b50-86b0-78f414cd59e9\n",
      "Applying the following default arguments:\n",
      "--glue_kernel_version 0.31\n",
      "--enable-glue-datacatalog true\n",
      "Waiting for session 53d36510-109b-4b50-86b0-78f414cd59e9 to get into ready status...\n",
      "Session 53d36510-109b-4b50-86b0-78f414cd59e9 has been created\n",
      "\n",
      "\n"
     ]
    }
   ],
   "source": [
    "import sys\n",
    "from awsglue.transforms import *\n",
    "from awsglue.utils import getResolvedOptions\n",
    "from pyspark.context import SparkContext\n",
    "from awsglue.context import GlueContext\n",
    "from awsglue.job import Job\n",
    "  \n",
    "sc = SparkContext.getOrCreate()\n",
    "glueContext = GlueContext(sc)\n",
    "spark = glueContext.spark_session\n",
    "job = Job(glueContext)"
   ]
  },
  {
   "cell_type": "code",
   "execution_count": 1,
   "id": "919a0d4f",
   "metadata": {},
   "outputs": [
    {
     "name": "stdout",
     "output_type": "stream",
     "text": [
      "\n"
     ]
    }
   ],
   "source": [
    "df_s3 = glueContext.create_dynamic_frame.from_catalog(\n",
    "        database = \"eblocks3csv\", \n",
    "        table_name = \"inventory_item\" \n",
    "    )"
   ]
  },
  {
   "cell_type": "code",
   "execution_count": 2,
   "id": "c17ecdb4",
   "metadata": {},
   "outputs": [
    {
     "name": "stdout",
     "output_type": "stream",
     "text": [
      "root\n",
      "|-- id: string\n",
      "|-- consigner_id: string\n",
      "|-- listed_by_user_id: string\n",
      "|-- location_id: string\n",
      "|-- auction_location_id: string\n",
      "|-- model_id: string\n",
      "|-- sub_model_id: string\n",
      "|-- trim_id: string\n",
      "|-- primary_photo_id: string\n",
      "|-- condition_report_id: string\n",
      "|-- type: string\n",
      "|-- status: string\n",
      "|-- condition: string\n",
      "|-- tag_line: string\n",
      "|-- trim_name: string\n",
      "|-- year: long\n",
      "|-- stock_number: string\n",
      "|-- description: string\n",
      "|-- completion_percentage: long\n",
      "|-- created: string\n",
      "|-- updated: string\n",
      "|-- verified: choice\n",
      "|    |-- long\n",
      "|    |-- string\n",
      "|-- verified_by: string\n",
      "|-- verified_extensive_vehicle_condition: choice\n",
      "|    |-- long\n",
      "|    |-- string\n",
      "|-- archived: choice\n",
      "|    |-- long\n",
      "|    |-- string\n",
      "|-- inspection_notes: string\n",
      "|-- version: long\n",
      "|-- pickup_location_id: string\n",
      "|-- checked_in_by_user_id: string\n",
      "|-- checked_out_by_user_id: string\n",
      "|-- checked_in_datetime: string\n",
      "|-- checked_out_datetime: string\n",
      "|-- chrome_tpms: choice\n",
      "|    |-- long\n",
      "|    |-- string\n",
      "|-- external_id: string\n",
      "|-- item_source: string\n",
      "|-- cost_currency_code: string\n",
      "|-- make_name: string\n",
      "|-- model_name: string\n",
      "|-- sub_model_name: string\n",
      "|-- make_id: string\n",
      "|-- options: string\n",
      "|-- transport_details: string\n",
      "|-- condition_rating: long\n",
      "|-- carfax_canada_url: string\n",
      "|-- dealer_acquired_carfax_canada_vhr: long\n",
      "|-- panels_repaint: string\n",
      "|-- declarations: string\n",
      "|-- vin: string\n",
      "|-- odometer_unit: string\n",
      "|-- body_type: string\n",
      "|-- doors: long\n",
      "|-- passengers: long\n",
      "|-- exterior_color: string\n",
      "|-- interior_color: string\n",
      "|-- drivetrain: string\n",
      "|-- transmission: string\n",
      "|-- displacement_unit: string\n",
      "|-- displacement_amount: double\n",
      "|-- fuel_type: string\n",
      "|-- auction_edge_short_code: string\n",
      "|-- seller_ams_id: string\n",
      "|-- transport_release_prefix: string\n",
      "|-- buyer_release_prefix: string\n",
      "|-- mechanical_engine_note: string\n",
      "|-- engine_buyer_shield: long\n",
      "|-- mechanical_transmission_note: string\n",
      "|-- transmission_buyer_shield: long\n",
      "|-- mechanical_drivetrain_note: string\n",
      "|-- drivetrain_buyer_shield: long\n",
      "|-- exterior_note: string\n",
      "|-- interior_note: string\n",
      "|-- tires_note: string\n",
      "|-- last_known_mileage_unit: string\n",
      "|-- last_known_mileage_amount: string\n",
      "|-- last_known_mileage_date: string\n",
      "|-- odometer_amount: long\n",
      "|-- cylinders: long\n",
      "|-- carfax_canada_amount: choice\n",
      "|    |-- double\n",
      "|    |-- string\n",
      "|-- cost_amount: choice\n",
      "|    |-- double\n",
      "|    |-- string\n",
      "|-- mechanical_engine_rating: double\n",
      "|-- mechanical_transmission_rating: double\n",
      "|-- mechanical_drivetrain_rating: double\n",
      "|-- exterior_rating: double\n",
      "|-- interior_rating: double\n",
      "|-- tires_rating: double\n",
      "|-- auto_grade: double\n"
     ]
    }
   ],
   "source": [
    "df_s3.printSchema()"
   ]
  },
  {
   "cell_type": "code",
   "execution_count": 4,
   "id": "80b24b54",
   "metadata": {},
   "outputs": [
    {
     "name": "stdout",
     "output_type": "stream",
     "text": [
      "\n"
     ]
    }
   ],
   "source": [
    "\n",
    "df_s3.toDF().createOrReplaceTempView(\"inventory_item\")"
   ]
  },
  {
   "cell_type": "code",
   "execution_count": 5,
   "id": "2195a46e",
   "metadata": {},
   "outputs": [
    {
     "name": "stdout",
     "output_type": "stream",
     "text": [
      "+--------------------+--------------------+--------------------+--------------------+-------------------+--------------------+--------------------+--------------------+--------------------+--------------------+-------+----------+---------+--------+-------------------+----+------------+--------------------+---------------------+-------------------+-------------------+---------+-----------+------------------------------------+---------+----------------+-------+--------------------+---------------------+----------------------+-------------------+--------------------+-----------+-----------+-----------+------------------+---------+---------------+--------------+--------------------+--------------------+-----------------+----------------+--------------------+---------------------------------+--------------+------------+-----------------+-------------+-----------+-----+----------+--------------+--------------+----------+------------+-----------------+-------------------+---------+-----------------------+-------------+------------------------+--------------------+----------------------+-------------------+----------------------------+-------------------------+--------------------------+-----------------------+-------------+-------------+----------+-----------------------+-------------------------+-----------------------+---------------+---------+--------------------+-----------+------------------------+------------------------------+----------------------------+---------------+---------------+------------+----------+\n",
      "|                  id|        consigner_id|   listed_by_user_id|         location_id|auction_location_id|            model_id|        sub_model_id|             trim_id|    primary_photo_id| condition_report_id|   type|    status|condition|tag_line|          trim_name|year|stock_number|         description|completion_percentage|            created|            updated| verified|verified_by|verified_extensive_vehicle_condition| archived|inspection_notes|version|  pickup_location_id|checked_in_by_user_id|checked_out_by_user_id|checked_in_datetime|checked_out_datetime|chrome_tpms|external_id|item_source|cost_currency_code|make_name|     model_name|sub_model_name|             make_id|             options|transport_details|condition_rating|   carfax_canada_url|dealer_acquired_carfax_canada_vhr|panels_repaint|declarations|              vin|odometer_unit|  body_type|doors|passengers|exterior_color|interior_color|drivetrain|transmission|displacement_unit|displacement_amount|fuel_type|auction_edge_short_code|seller_ams_id|transport_release_prefix|buyer_release_prefix|mechanical_engine_note|engine_buyer_shield|mechanical_transmission_note|transmission_buyer_shield|mechanical_drivetrain_note|drivetrain_buyer_shield|exterior_note|interior_note|tires_note|last_known_mileage_unit|last_known_mileage_amount|last_known_mileage_date|odometer_amount|cylinders|carfax_canada_amount|cost_amount|mechanical_engine_rating|mechanical_transmission_rating|mechanical_drivetrain_rating|exterior_rating|interior_rating|tires_rating|auto_grade|\n",
      "+--------------------+--------------------+--------------------+--------------------+-------------------+--------------------+--------------------+--------------------+--------------------+--------------------+-------+----------+---------+--------+-------------------+----+------------+--------------------+---------------------+-------------------+-------------------+---------+-----------+------------------------------------+---------+----------------+-------+--------------------+---------------------+----------------------+-------------------+--------------------+-----------+-----------+-----------+------------------+---------+---------------+--------------+--------------------+--------------------+-----------------+----------------+--------------------+---------------------------------+--------------+------------+-----------------+-------------+-----------+-----+----------+--------------+--------------+----------+------------+-----------------+-------------------+---------+-----------------------+-------------+------------------------+--------------------+----------------------+-------------------+----------------------------+-------------------------+--------------------------+-----------------------+-------------+-------------+----------+-----------------------+-------------------------+-----------------------+---------------+---------+--------------------+-----------+------------------------+------------------------------+----------------------------+---------------+---------------+------------+----------+\n",
      "|00001453-b8e9-11e...|2e1c28de-99d0-11e...|3e1d09ee-40b7-11e...|2e1c4ab5-99d0-11e...|                   |86bb26db-4124-11e...|0985250e-4125-11e...|8e50db67-4126-11e...|a59f9435-b8e9-11e...|9d10e3e1-b8e9-11e...|VEHICLE|  COMPLETE|     USED|        |4WD Reg Cab 145\" XL|2011|            |                    |                   92|2017-10-24 18:27:32|2017-10-24 18:33:22|{0, null}|           |                           {0, null}|{0, null}|                |      1|                    |                     |                      |                   |                    |  {0, null}|           |           |                  |     Ford|          F-150|            XL|9e90d8d2-4123-11e...|    Air Conditioning|                 |              73|                    |                                0|              |            |1FTMF1EM6BKD29634|           km|      Truck|    2|         3|         Black|         Black|       4x4|   Automatic|                L|                3.7| Gasoline|                       |             |                WbLERXiF|            0dW2APWF|                      |                  0|                            |                        0|                          |                      0|             |             |          |                       |                         |                       |          69419|        6|                null|       null|                    null|                          null|                        null|           null|           null|        null|      null|\n",
      "|000017a6-aebf-4ee...|dc27fd6d-93b2-11e...|c83aa5d6-77e7-4b3...|dc281ec7-93b2-11e...|                   |86bcf018-4124-11e...|098e31f9-4125-11e...|8e7a711c-4126-11e...|172dc037-2515-4f0...|46b44eee-c322-49a...|VEHICLE|INCOMPLETE|     USED|        |                2dr|2014|            |This beautiful Ro...|                  100|2019-03-19 01:30:58|2019-03-19 16:02:47|{0, null}|           |                           {0, null}|{0, null}|                |     25|dc281ec7-93b2-11e...|                     |                      |                   |                    |  {0, null}|           |           |                  |     MINI|Cooper Roadster|         Other|9e90e20b-4123-11e...|Air Conditioning,...|                 |              81|https://reports.c...|                                0|              |            |WMWSY1C53ET625641|           km|Convertible|    2|         2|        Silver|         Black|       FWD|   Automatic|                L|                1.6| Gasoline|                       |             |                ov8731WH|            0MbT3aNL|                      |                  0|                            |                        0|                          |                      0|             |             |          |                       |                         |                       |          62582|        4|         {0.0, null}|       null|                    null|                          null|                        null|           null|           null|        null|      null|\n",
      "+--------------------+--------------------+--------------------+--------------------+-------------------+--------------------+--------------------+--------------------+--------------------+--------------------+-------+----------+---------+--------+-------------------+----+------------+--------------------+---------------------+-------------------+-------------------+---------+-----------+------------------------------------+---------+----------------+-------+--------------------+---------------------+----------------------+-------------------+--------------------+-----------+-----------+-----------+------------------+---------+---------------+--------------+--------------------+--------------------+-----------------+----------------+--------------------+---------------------------------+--------------+------------+-----------------+-------------+-----------+-----+----------+--------------+--------------+----------+------------+-----------------+-------------------+---------+-----------------------+-------------+------------------------+--------------------+----------------------+-------------------+----------------------------+-------------------------+--------------------------+-----------------------+-------------+-------------+----------+-----------------------+-------------------------+-----------------------+---------------+---------+--------------------+-----------+------------------------+------------------------------+----------------------------+---------------+---------------+------------+----------+\n",
      "only showing top 2 rows\n"
     ]
    }
   ],
   "source": [
    "spark.sql(\"select * from inventory_item\").show(2)"
   ]
  },
  {
   "cell_type": "code",
   "execution_count": 6,
   "id": "318539d1",
   "metadata": {},
   "outputs": [
    {
     "name": "stdout",
     "output_type": "stream",
     "text": [
      "\n"
     ]
    }
   ],
   "source": [
    "#https://docs.aws.amazon.com/glue/latest/dg/aws-glue-api-crawler-pyspark-extensions-dynamic-frame-reader.html\n",
    "\n",
    "df_redshift = glueContext.create_dynamic_frame.from_catalog(\n",
    "        database = \"data_warehouse\", \n",
    "        table_name = \"data_warehouse_tableau_control_kpi\", \n",
    "        redshift_tmp_dir = \"s3://einc-glue-redshift-tmp-dev/temp/\")"
   ]
  },
  {
   "cell_type": "code",
   "execution_count": 7,
   "id": "a98a80ec",
   "metadata": {},
   "outputs": [
    {
     "name": "stdout",
     "output_type": "stream",
     "text": [
      "root\n",
      "|-- id: int\n",
      "|-- kpi_name: string\n",
      "|-- actor: string\n",
      "|-- object_id: string\n",
      "|-- aggregation_date_field: string\n",
      "|-- first_time_ind: boolean\n",
      "|-- where_clause: string\n"
     ]
    }
   ],
   "source": [
    "df_redshift.printSchema()"
   ]
  },
  {
   "cell_type": "code",
   "execution_count": 10,
   "id": "860395f1",
   "metadata": {},
   "outputs": [
    {
     "name": "stdout",
     "output_type": "stream",
     "text": [
      "\n"
     ]
    }
   ],
   "source": [
    "# https://docs.aws.amazon.com/glue/latest/dg/aws-glue-programming-etl-glue-data-catalog-hive.html\n",
    "\n",
    "df_redshift.toDF().createOrReplaceTempView(\"data_warehouse_tableau_mv_aug_auction_item\")"
   ]
  },
  {
   "cell_type": "code",
   "execution_count": 11,
   "id": "b55703ed",
   "metadata": {},
   "outputs": [
    {
     "name": "stdout",
     "output_type": "stream",
     "text": [
      "+---+-------------+------+--------------------+----------------------+--------------+--------------------+\n",
      "| id|     kpi_name| actor|           object_id|aggregation_date_field|first_time_ind|        where_clause|\n",
      "+---+-------------+------+--------------------+----------------------+--------------+--------------------+\n",
      "| 12|Unique Listed|seller|  inventory_item_vin|  auction_item_ran_...|         false|                null|\n",
      "|  1|         Sold|seller|auction_item_invo...|  auction_item_invo...|         false| and auction_item...|\n",
      "+---+-------------+------+--------------------+----------------------+--------------+--------------------+\n",
      "only showing top 2 rows\n"
     ]
    }
   ],
   "source": [
    "spark.sql(\"select * from data_warehouse_tableau_mv_aug_auction_item\").show(2)"
   ]
  },
  {
   "cell_type": "code",
   "execution_count": null,
   "id": "20fe1f0d",
   "metadata": {},
   "outputs": [],
   "source": []
  }
 ],
 "metadata": {
  "interpreter": {
   "hash": "4e0033d6593b5aed5c18d420bec3ae9e1a0b8c7c4f7c1b0762ff5a0f0cae5438"
  },
  "kernelspec": {
   "display_name": "Python 3.10.4 ('ex-env')",
   "language": "python",
   "name": "python3"
  },
  "language_info": {
   "codemirror_mode": {
    "name": "python",
    "version": 3
   },
   "file_extension": ".py",
   "mimetype": "text/x-python",
   "name": "python",
   "pygments_lexer": "python3",
   "version": "3.10.4"
  }
 },
 "nbformat": 4,
 "nbformat_minor": 5
}
